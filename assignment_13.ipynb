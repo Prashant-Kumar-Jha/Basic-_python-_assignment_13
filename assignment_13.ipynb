{
 "cells": [
  {
   "cell_type": "code",
   "execution_count": null,
   "metadata": {},
   "outputs": [],
   "source": [
    "Q1 - What advantages do Excel spreadsheets have over CSV spreadsheets?\n",
    "\n",
    "ans - In Excel, spreadsheets can have values of data types other than strings; \n",
    "     cells can have different fonts, sizes, or color settings; cells can have varying widths and\n",
    "      heights; adjacent cells can be merged;and you can embed images and charts.\n"
   ]
  },
  {
   "cell_type": "code",
   "execution_count": null,
   "metadata": {},
   "outputs": [],
   "source": [
    "Q2 -  To construct reader and writer artefacts, what do you pass to csv.reader() and csv.writer()?\n",
    "\n",
    "ans - You pass a File object, obtained from a call to open()."
   ]
  },
  {
   "cell_type": "code",
   "execution_count": null,
   "metadata": {},
   "outputs": [],
   "source": [
    "Q3 - In what modes can File artefacts for readers and writers be opened?\n",
    "\n",
    "ans- File objects need to be opened in read-binary ('rb') for Reader objects and write-binary ('wb') for Writer objects."
   ]
  },
  {
   "cell_type": "code",
   "execution_count": null,
   "metadata": {},
   "outputs": [],
   "source": [
    "Q4 - Which method outputs a CSV file from a list argument?\n",
    "\n",
    "ans - The writerow() method"
   ]
  },
  {
   "cell_type": "code",
   "execution_count": null,
   "metadata": {},
   "outputs": [],
   "source": [
    "Q5 -  What do the keyword arguments delimiter and lineterminator do?\n",
    "\n",
    "ans - The delimiter argument changes the string used to separate cells in a row.\n",
    "      The lineterminator argument changes the string used to separate rows."
   ]
  },
  {
   "cell_type": "code",
   "execution_count": null,
   "metadata": {},
   "outputs": [],
   "source": [
    "Q6 - What function returns a Python data structure from a string of JSON data?\n",
    "ans - json.loads()"
   ]
  },
  {
   "cell_type": "code",
   "execution_count": null,
   "metadata": {},
   "outputs": [],
   "source": [
    "Q7 - What function returns a string of JSON data from a Python data structure?\n",
    "\n",
    "ans - json.dumps()\n"
   ]
  }
 ],
 "metadata": {
  "kernelspec": {
   "display_name": "Python 3",
   "language": "python",
   "name": "python3"
  },
  "language_info": {
   "codemirror_mode": {
    "name": "ipython",
    "version": 3
   },
   "file_extension": ".py",
   "mimetype": "text/x-python",
   "name": "python",
   "nbconvert_exporter": "python",
   "pygments_lexer": "ipython3",
   "version": "3.8.5"
  }
 },
 "nbformat": 4,
 "nbformat_minor": 4
}
